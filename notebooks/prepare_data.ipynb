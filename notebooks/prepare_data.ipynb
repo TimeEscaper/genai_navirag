{
 "cells": [
  {
   "cell_type": "code",
   "execution_count": 2,
   "metadata": {},
   "outputs": [],
   "source": [
    "import sys\n",
    "sys.path.append(\"..\")\n",
    "import json\n",
    "import PIL\n",
    "\n",
    "from lib.models.llava import LLaVACaptioner\n",
    "from lib.models.detic import DeticModel\n",
    "from lib.models.chat_gpt import ChatGPTGraphBuilder\n",
    "from lib.data.models_registry import LocalModelsRegistry\n",
    "from lib.data.detection_pipeline import DataPipeLine, TrajectoryImageCollector, SceneCaptionStep, DetectionStep, DetectionReduceStep, GPTGraphGenerateStep"
   ]
  },
  {
   "cell_type": "code",
   "execution_count": null,
   "metadata": {},
   "outputs": [],
   "source": [
    "registry = LocalModelsRegistry(\n",
    "    llava_captioner=LLaVACaptioner(),\n",
    "    detic=DeticModel(ignore_classes=(\"person\", \"lightbulb\")),\n",
    "    gpt_graph_builder=GPTGraphGenerateStep()\n",
    ")\n",
    "\n",
    "pipeline = DataPipeLine(\n",
    "    [\n",
    "        TrajectoryImageCollector(threshold_distance=7.),\n",
    "        SceneCaptionStep(models=registry, batch_size=2),\n",
    "        DetectionStep(registry),\n",
    "        DetectionReduceStep(),\n",
    "        GPTGraphGenerateStep(registry)\n",
    "    ]\n",
    ")"
   ]
  },
  {
   "cell_type": "code",
   "execution_count": null,
   "metadata": {},
   "outputs": [],
   "source": [
    "result = pipeline(\"/mnt/vol0/datasets/rosbag2_navigation_for_graph_21_feb_2024\")\n",
    "with open(\"dataset.json\", \"w\") as f:\n",
    "    json.dump(result, f)\n"
   ]
  }
 ],
 "metadata": {
  "kernelspec": {
   "display_name": "navirag_1_py310",
   "language": "python",
   "name": "python3"
  },
  "language_info": {
   "codemirror_mode": {
    "name": "ipython",
    "version": 3
   },
   "file_extension": ".py",
   "mimetype": "text/x-python",
   "name": "python",
   "nbconvert_exporter": "python",
   "pygments_lexer": "ipython3",
   "version": "3.10.15"
  }
 },
 "nbformat": 4,
 "nbformat_minor": 2
}
